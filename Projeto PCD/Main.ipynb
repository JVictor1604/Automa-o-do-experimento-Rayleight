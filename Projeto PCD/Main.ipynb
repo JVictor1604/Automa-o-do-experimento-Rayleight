{
 "cells": [
  {
   "cell_type": "code",
   "execution_count": null,
   "metadata": {},
   "outputs": [
    {
     "ename": "",
     "evalue": "",
     "output_type": "error",
     "traceback": [
      "\u001b[1;31mFailed to start the Kernel. \n",
      "\u001b[1;31mBad file descriptor (C:\\Users\\runneradmin\\AppData\\Local\\Temp\\tmpw8fxpxar\\build\\_deps\\bundled_libzmq-src\\src\\epoll.cpp:73). \n",
      "\u001b[1;31mView Jupyter <a href='command:jupyter.viewOutput'>log</a> for further details."
     ]
    }
   ],
   "source": [
    "from medicao import medicao\n",
    "from tratamento_de_dados import tratar_dados\n",
    "from plotar_grafico import plotar_grafico\n",
    "\n",
    "\n",
    "def main() :\n",
    "    while True:\n",
    "        try:\n",
    "            numero_de_amostras = int(input(\"Defina o Número de Amostras Desejadas: \"))\n",
    "            if numero_de_amostras > 0:\n",
    "                break\n",
    "            else:\n",
    "                print(\"Por favor, digite um número inteiro maior que zero.\")\n",
    "        except ValueError:\n",
    "            print(\"Por favor, digite um número inteiro válido.\")\n",
    "    \n",
    "    medicao(numero_de_amostras)\n",
    "\n",
    "    media_Azul, media_Vermelho, media_Verde, desvio_Azul, desvio_Vermelho, desvio_Verde, n_de_gotas = tratar_dados(\"dados\", \",\", numero_de_amostras)\n",
    "\n",
    "    plotar_grafico(media_Azul, media_Verde, media_Vermelho, desvio_Azul, desvio_Verde, desvio_Vermelho, n_de_gotas)\n",
    "\n",
    "\n",
    "main()"
   ]
  },
  {
   "cell_type": "code",
   "execution_count": null,
   "metadata": {},
   "outputs": [],
   "source": []
  }
 ],
 "metadata": {
  "kernelspec": {
   "display_name": "Python 3",
   "language": "python",
   "name": "python3"
  },
  "language_info": {
   "name": "python",
   "version": "3.11.9"
  }
 },
 "nbformat": 4,
 "nbformat_minor": 2
}
