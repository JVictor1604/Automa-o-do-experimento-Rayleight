{
 "cells": [
  {
   "cell_type": "code",
   "execution_count": null,
   "metadata": {},
   "outputs": [],
   "source": [
    "%pip install pyserial numpy pandas plotly"
   ]
  },
  {
   "cell_type": "code",
   "execution_count": null,
   "metadata": {},
   "outputs": [
    {
     "ename": "",
     "evalue": "",
     "output_type": "error",
     "traceback": [
      "\u001b[1;31mFailed to start the Kernel. \n",
      "\u001b[1;31mBad file descriptor (C:\\Users\\runneradmin\\AppData\\Local\\Temp\\tmpw8fxpxar\\build\\_deps\\bundled_libzmq-src\\src\\epoll.cpp:73). \n",
      "\u001b[1;31mView Jupyter <a href='command:jupyter.viewOutput'>log</a> for further details."
     ]
    }
   ],
   "source": [
    "from medicao import medicao\n",
    "from tratamento_de_dados import tratar_dados\n",
    "from plotar_grafico import plotar_grafico\n",
    "from colorama import Fore, Back, Style, init\n",
    "import os\n",
    "\n",
    " \n",
    "\n",
    "def main() :\n",
    "\n",
    "    while True:\n",
    "\n",
    "        init(autoreset=True)\n",
    "        \n",
    "        print(Fore.GREEN + Style.BRIGHT + \"=\"*40)  # Borda superior\n",
    "        print(Fore.YELLOW + Style.BRIGHT + \"   Digite 1 para realizar uma nova medição   \")\n",
    "        print(Fore.YELLOW + Style.BRIGHT + \"   Digite 2 para plotar gráfico com dados já existentes   \")\n",
    "        print(Fore.YELLOW + Style.BRIGHT + \"   Digite 3 para encerrar o programa   \")\n",
    "        print(Fore.GREEN + Style.BRIGHT + \"=\"*40)  # Borda inferior\n",
    "\n",
    "        numero_acao = int(input(Fore.CYAN + \"Digite o número da ação desejada: \"))\n",
    "\n",
    "\n",
    "        if numero_acao == 1:\n",
    "\n",
    "            while True:\n",
    "                try:\n",
    "                    numero_de_amostras = int(input(\"Defina o Número de Amostras Desejadas: \"))\n",
    "                    if numero_de_amostras > 0:\n",
    "                        break\n",
    "                    else:\n",
    "                        print(\"Por favor, digite um número inteiro maior que zero.\")\n",
    "                except ValueError:\n",
    "                    print(\"Por favor, digite um número inteiro válido.\")\n",
    "            \n",
    "            nome_pasta = medicao(numero_de_amostras)\n",
    "            \n",
    "            media_Azul, media_Vermelho, media_Verde, desvio_Azul, desvio_Vermelho, desvio_Verde, n_de_gotas = tratar_dados(f\"{nome_pasta}\", \",\", numero_de_amostras)\n",
    "\n",
    "            plotar_grafico(media_Azul, media_Verde, media_Vermelho, desvio_Azul, desvio_Verde, desvio_Vermelho, n_de_gotas)\n",
    "        \n",
    "        elif numero_acao == 2:\n",
    "            \n",
    "            nome_pasta = input(\"Digite o nome da pasta onde estão os arquivos: \")  \n",
    "\n",
    "            while os.path.exists(nome_pasta) == False:\n",
    "                  nome_pasta = input(\"Digite um nome de pasta válido: \")\n",
    "                  \n",
    "            while True:\n",
    "                    try:\n",
    "                        numero_de_amostras = int(input(\"Defina o Número de Amostras Desejadas: \"))\n",
    "                        if numero_de_amostras > 0:\n",
    "                            break\n",
    "                        else:\n",
    "                            print(\"Por favor, digite um número inteiro maior que zero.\")\n",
    "                    except ValueError:\n",
    "                        print(\"Por favor, digite um número inteiro válido.\")\n",
    "\n",
    "            media_Azul, media_Vermelho, media_Verde, desvio_Azul, desvio_Vermelho, desvio_Verde, n_de_gotas = tratar_dados(f\"{nome_pasta}\", \",\", numero_de_amostras)\n",
    "              \n",
    "            plotar_grafico(media_Azul, media_Verde, media_Vermelho, desvio_Azul, desvio_Verde, desvio_Vermelho, n_de_gotas)\n",
    "\n",
    "        else: break\n",
    "\n",
    "\n",
    "main()"
   ]
  },
  {
   "cell_type": "code",
   "execution_count": null,
   "metadata": {},
   "outputs": [],
   "source": []
  },
  {
   "cell_type": "code",
   "execution_count": null,
   "metadata": {},
   "outputs": [],
   "source": []
  }
 ],
 "metadata": {
  "kernelspec": {
   "display_name": "Python 3",
   "language": "python",
   "name": "python3"
  },
  "language_info": {
   "name": "python",
   "version": "3.11.9"
  }
 },
 "nbformat": 4,
 "nbformat_minor": 2
}
