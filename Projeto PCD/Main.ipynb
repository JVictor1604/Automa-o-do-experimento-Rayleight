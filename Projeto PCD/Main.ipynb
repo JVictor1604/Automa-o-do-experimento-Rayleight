{
 "cells": [
  {
   "cell_type": "code",
   "execution_count": null,
   "metadata": {},
   "outputs": [],
   "source": [
    "%pip install pyserial numpy pandas plotly colorama"
   ]
  },
  {
   "cell_type": "code",
   "execution_count": 2,
   "metadata": {},
   "outputs": [
    {
     "name": "stdout",
     "output_type": "stream",
     "text": [
      "========================================\n",
      "   Digite 1 para realizar uma nova medição   \n",
      "   Digite 2 para plotar gráfico com dados já existentes   \n",
      "   Digite 3 para encerrar o programa   \n",
      "========================================\n"
     ]
    },
    {
     "data": {
      "application/vnd.plotly.v1+json": {
       "config": {
        "plotlyServerURL": "https://plot.ly"
       },
       "data": [
        {
         "error_y": {
          "array": [
           0.19270364261619705,
           0.18436875205601888,
           0.2025349554108261,
           0.27050972293816267,
           0.2857714228582853,
           0.25071326821120343,
           0.36077015126090495,
           0.2841241464786913,
           0.24679165798093655,
           0.2577136522006784,
           0.3081081177848091,
           0.42700666725187203,
           0.4132598135185513,
           0.42827608871295303,
           0.488596490585273,
           0.3710327561313812,
           0.4012734830053754,
           0.45309817830540167,
           0.4375161804588093,
           0.5552274768240564
          ],
          "color": "blue",
          "type": "data",
          "visible": true
         },
         "marker": {
          "color": "blue"
         },
         "mode": "markers",
         "name": "Azul",
         "type": "scatter",
         "x": [
          0,
          2,
          4,
          6,
          8,
          10,
          12,
          14,
          16,
          18,
          20,
          22,
          24,
          26,
          28,
          30,
          32,
          34,
          36,
          38
         ],
         "y": [
          0,
          -2.1400000000000006,
          -4.11999999999999,
          -5.8999999999999915,
          -7.299999999999997,
          -9.61999999999999,
          -11.33999999999999,
          -13.64,
          -15.679999999999993,
          -17.179999999999993,
          -18.799999999999997,
          -20.86,
          -22.47999999999999,
          -23.83999999999999,
          -25.700000000000003,
          -27.9,
          -28.919999999999995,
          -30.999999999999993,
          -32.04,
          -34.13999999999999
         ]
        },
        {
         "error_y": {
          "array": [
           0.1599999999999999,
           0.1492566615612455,
           0.2315696219194529,
           0.37050434462736764,
           0.27849449487102856,
           0.18798610456681125,
           0.2609871370667252,
           0.23393702274809963,
           0.26704734732680957,
           0.37633029348687635,
           0.23098723350180264,
           0.3776295560898974,
           0.3542857142857143,
           0.3774890186266,
           0.4324491240573385,
           0.481968751633361,
           0.3268151821218014,
           0.4906389004270303,
           0.4373948853316482,
           0.5179945630476624
          ],
          "color": "red",
          "type": "data",
          "visible": true
         },
         "marker": {
          "color": "red"
         },
         "mode": "markers",
         "name": "Vermelho",
         "type": "scatter",
         "x": [
          0,
          2,
          4,
          6,
          8,
          10,
          12,
          14,
          16,
          18,
          20,
          22,
          24,
          26,
          28,
          30,
          32,
          34,
          36,
          38
         ],
         "y": [
          0,
          -1.0600000000000023,
          -3.0200000000000102,
          -4.280000000000001,
          -5.700000000000003,
          -8.060000000000002,
          -9.52000000000001,
          -11.120000000000005,
          -12.680000000000007,
          -13.86,
          -16,
          -18.02000000000001,
          -19.200000000000003,
          -20.60000000000001,
          -22.260000000000005,
          -23.60000000000001,
          -24.92,
          -26.460000000000008,
          -28,
          -29.659999999999997
         ]
        },
        {
         "error_y": {
          "array": [
           0.36790637673301646,
           0.346221587650311,
           0.19430672155336345,
           0.208022761705913,
           0.32198364770241844,
           0.14274281139196343,
           0.13388999444411415,
           0.21459025977857601,
           0.1494479637785373,
           0.14182484166846698,
           0.3307505379698527,
           0.37125270561784646,
           0.36347528900089726,
           0.3303554054008363,
           0.284511755074391,
           0.4489988864128731,
           0.2663280162598331,
           0.6711610409262021,
           0.4201943185076668,
           0.35133564392739547
          ],
          "color": "green",
          "type": "data",
          "visible": true
         },
         "marker": {
          "color": "green"
         },
         "mode": "markers",
         "name": "Verde",
         "type": "scatter",
         "x": [
          0,
          2,
          4,
          6,
          8,
          10,
          12,
          14,
          16,
          18,
          20,
          22,
          24,
          26,
          28,
          30,
          32,
          34,
          36,
          38
         ],
         "y": [
          0,
          -0.8199999999999932,
          -2.239999999999995,
          -3.8799999999999955,
          -4.739999999999995,
          -6.699999999999989,
          -7.699999999999989,
          -8.799999999999997,
          -9.899999999999991,
          -10.86,
          -11.599999999999994,
          -13.659999999999997,
          -14.659999999999997,
          -15.920000000000002,
          -17.299999999999997,
          -17.69999999999999,
          -19.11999999999999,
          -19.47999999999999,
          -20.959999999999994,
          -23.28
         ]
        }
       ],
       "layout": {
        "legend": {
         "xanchor": "right",
         "yanchor": "top"
        },
        "margin": {
         "b": 10,
         "l": 30,
         "r": 20,
         "t": 10
        },
        "paper_bgcolor": "white",
        "plot_bgcolor": "white",
        "template": {
         "data": {
          "bar": [
           {
            "error_x": {
             "color": "#2a3f5f"
            },
            "error_y": {
             "color": "#2a3f5f"
            },
            "marker": {
             "line": {
              "color": "#E5ECF6",
              "width": 0.5
             },
             "pattern": {
              "fillmode": "overlay",
              "size": 10,
              "solidity": 0.2
             }
            },
            "type": "bar"
           }
          ],
          "barpolar": [
           {
            "marker": {
             "line": {
              "color": "#E5ECF6",
              "width": 0.5
             },
             "pattern": {
              "fillmode": "overlay",
              "size": 10,
              "solidity": 0.2
             }
            },
            "type": "barpolar"
           }
          ],
          "carpet": [
           {
            "aaxis": {
             "endlinecolor": "#2a3f5f",
             "gridcolor": "white",
             "linecolor": "white",
             "minorgridcolor": "white",
             "startlinecolor": "#2a3f5f"
            },
            "baxis": {
             "endlinecolor": "#2a3f5f",
             "gridcolor": "white",
             "linecolor": "white",
             "minorgridcolor": "white",
             "startlinecolor": "#2a3f5f"
            },
            "type": "carpet"
           }
          ],
          "choropleth": [
           {
            "colorbar": {
             "outlinewidth": 0,
             "ticks": ""
            },
            "type": "choropleth"
           }
          ],
          "contour": [
           {
            "colorbar": {
             "outlinewidth": 0,
             "ticks": ""
            },
            "colorscale": [
             [
              0,
              "#0d0887"
             ],
             [
              0.1111111111111111,
              "#46039f"
             ],
             [
              0.2222222222222222,
              "#7201a8"
             ],
             [
              0.3333333333333333,
              "#9c179e"
             ],
             [
              0.4444444444444444,
              "#bd3786"
             ],
             [
              0.5555555555555556,
              "#d8576b"
             ],
             [
              0.6666666666666666,
              "#ed7953"
             ],
             [
              0.7777777777777778,
              "#fb9f3a"
             ],
             [
              0.8888888888888888,
              "#fdca26"
             ],
             [
              1,
              "#f0f921"
             ]
            ],
            "type": "contour"
           }
          ],
          "contourcarpet": [
           {
            "colorbar": {
             "outlinewidth": 0,
             "ticks": ""
            },
            "type": "contourcarpet"
           }
          ],
          "heatmap": [
           {
            "colorbar": {
             "outlinewidth": 0,
             "ticks": ""
            },
            "colorscale": [
             [
              0,
              "#0d0887"
             ],
             [
              0.1111111111111111,
              "#46039f"
             ],
             [
              0.2222222222222222,
              "#7201a8"
             ],
             [
              0.3333333333333333,
              "#9c179e"
             ],
             [
              0.4444444444444444,
              "#bd3786"
             ],
             [
              0.5555555555555556,
              "#d8576b"
             ],
             [
              0.6666666666666666,
              "#ed7953"
             ],
             [
              0.7777777777777778,
              "#fb9f3a"
             ],
             [
              0.8888888888888888,
              "#fdca26"
             ],
             [
              1,
              "#f0f921"
             ]
            ],
            "type": "heatmap"
           }
          ],
          "heatmapgl": [
           {
            "colorbar": {
             "outlinewidth": 0,
             "ticks": ""
            },
            "colorscale": [
             [
              0,
              "#0d0887"
             ],
             [
              0.1111111111111111,
              "#46039f"
             ],
             [
              0.2222222222222222,
              "#7201a8"
             ],
             [
              0.3333333333333333,
              "#9c179e"
             ],
             [
              0.4444444444444444,
              "#bd3786"
             ],
             [
              0.5555555555555556,
              "#d8576b"
             ],
             [
              0.6666666666666666,
              "#ed7953"
             ],
             [
              0.7777777777777778,
              "#fb9f3a"
             ],
             [
              0.8888888888888888,
              "#fdca26"
             ],
             [
              1,
              "#f0f921"
             ]
            ],
            "type": "heatmapgl"
           }
          ],
          "histogram": [
           {
            "marker": {
             "pattern": {
              "fillmode": "overlay",
              "size": 10,
              "solidity": 0.2
             }
            },
            "type": "histogram"
           }
          ],
          "histogram2d": [
           {
            "colorbar": {
             "outlinewidth": 0,
             "ticks": ""
            },
            "colorscale": [
             [
              0,
              "#0d0887"
             ],
             [
              0.1111111111111111,
              "#46039f"
             ],
             [
              0.2222222222222222,
              "#7201a8"
             ],
             [
              0.3333333333333333,
              "#9c179e"
             ],
             [
              0.4444444444444444,
              "#bd3786"
             ],
             [
              0.5555555555555556,
              "#d8576b"
             ],
             [
              0.6666666666666666,
              "#ed7953"
             ],
             [
              0.7777777777777778,
              "#fb9f3a"
             ],
             [
              0.8888888888888888,
              "#fdca26"
             ],
             [
              1,
              "#f0f921"
             ]
            ],
            "type": "histogram2d"
           }
          ],
          "histogram2dcontour": [
           {
            "colorbar": {
             "outlinewidth": 0,
             "ticks": ""
            },
            "colorscale": [
             [
              0,
              "#0d0887"
             ],
             [
              0.1111111111111111,
              "#46039f"
             ],
             [
              0.2222222222222222,
              "#7201a8"
             ],
             [
              0.3333333333333333,
              "#9c179e"
             ],
             [
              0.4444444444444444,
              "#bd3786"
             ],
             [
              0.5555555555555556,
              "#d8576b"
             ],
             [
              0.6666666666666666,
              "#ed7953"
             ],
             [
              0.7777777777777778,
              "#fb9f3a"
             ],
             [
              0.8888888888888888,
              "#fdca26"
             ],
             [
              1,
              "#f0f921"
             ]
            ],
            "type": "histogram2dcontour"
           }
          ],
          "mesh3d": [
           {
            "colorbar": {
             "outlinewidth": 0,
             "ticks": ""
            },
            "type": "mesh3d"
           }
          ],
          "parcoords": [
           {
            "line": {
             "colorbar": {
              "outlinewidth": 0,
              "ticks": ""
             }
            },
            "type": "parcoords"
           }
          ],
          "pie": [
           {
            "automargin": true,
            "type": "pie"
           }
          ],
          "scatter": [
           {
            "fillpattern": {
             "fillmode": "overlay",
             "size": 10,
             "solidity": 0.2
            },
            "type": "scatter"
           }
          ],
          "scatter3d": [
           {
            "line": {
             "colorbar": {
              "outlinewidth": 0,
              "ticks": ""
             }
            },
            "marker": {
             "colorbar": {
              "outlinewidth": 0,
              "ticks": ""
             }
            },
            "type": "scatter3d"
           }
          ],
          "scattercarpet": [
           {
            "marker": {
             "colorbar": {
              "outlinewidth": 0,
              "ticks": ""
             }
            },
            "type": "scattercarpet"
           }
          ],
          "scattergeo": [
           {
            "marker": {
             "colorbar": {
              "outlinewidth": 0,
              "ticks": ""
             }
            },
            "type": "scattergeo"
           }
          ],
          "scattergl": [
           {
            "marker": {
             "colorbar": {
              "outlinewidth": 0,
              "ticks": ""
             }
            },
            "type": "scattergl"
           }
          ],
          "scattermapbox": [
           {
            "marker": {
             "colorbar": {
              "outlinewidth": 0,
              "ticks": ""
             }
            },
            "type": "scattermapbox"
           }
          ],
          "scatterpolar": [
           {
            "marker": {
             "colorbar": {
              "outlinewidth": 0,
              "ticks": ""
             }
            },
            "type": "scatterpolar"
           }
          ],
          "scatterpolargl": [
           {
            "marker": {
             "colorbar": {
              "outlinewidth": 0,
              "ticks": ""
             }
            },
            "type": "scatterpolargl"
           }
          ],
          "scatterternary": [
           {
            "marker": {
             "colorbar": {
              "outlinewidth": 0,
              "ticks": ""
             }
            },
            "type": "scatterternary"
           }
          ],
          "surface": [
           {
            "colorbar": {
             "outlinewidth": 0,
             "ticks": ""
            },
            "colorscale": [
             [
              0,
              "#0d0887"
             ],
             [
              0.1111111111111111,
              "#46039f"
             ],
             [
              0.2222222222222222,
              "#7201a8"
             ],
             [
              0.3333333333333333,
              "#9c179e"
             ],
             [
              0.4444444444444444,
              "#bd3786"
             ],
             [
              0.5555555555555556,
              "#d8576b"
             ],
             [
              0.6666666666666666,
              "#ed7953"
             ],
             [
              0.7777777777777778,
              "#fb9f3a"
             ],
             [
              0.8888888888888888,
              "#fdca26"
             ],
             [
              1,
              "#f0f921"
             ]
            ],
            "type": "surface"
           }
          ],
          "table": [
           {
            "cells": {
             "fill": {
              "color": "#EBF0F8"
             },
             "line": {
              "color": "white"
             }
            },
            "header": {
             "fill": {
              "color": "#C8D4E3"
             },
             "line": {
              "color": "white"
             }
            },
            "type": "table"
           }
          ]
         },
         "layout": {
          "annotationdefaults": {
           "arrowcolor": "#2a3f5f",
           "arrowhead": 0,
           "arrowwidth": 1
          },
          "autotypenumbers": "strict",
          "coloraxis": {
           "colorbar": {
            "outlinewidth": 0,
            "ticks": ""
           }
          },
          "colorscale": {
           "diverging": [
            [
             0,
             "#8e0152"
            ],
            [
             0.1,
             "#c51b7d"
            ],
            [
             0.2,
             "#de77ae"
            ],
            [
             0.3,
             "#f1b6da"
            ],
            [
             0.4,
             "#fde0ef"
            ],
            [
             0.5,
             "#f7f7f7"
            ],
            [
             0.6,
             "#e6f5d0"
            ],
            [
             0.7,
             "#b8e186"
            ],
            [
             0.8,
             "#7fbc41"
            ],
            [
             0.9,
             "#4d9221"
            ],
            [
             1,
             "#276419"
            ]
           ],
           "sequential": [
            [
             0,
             "#0d0887"
            ],
            [
             0.1111111111111111,
             "#46039f"
            ],
            [
             0.2222222222222222,
             "#7201a8"
            ],
            [
             0.3333333333333333,
             "#9c179e"
            ],
            [
             0.4444444444444444,
             "#bd3786"
            ],
            [
             0.5555555555555556,
             "#d8576b"
            ],
            [
             0.6666666666666666,
             "#ed7953"
            ],
            [
             0.7777777777777778,
             "#fb9f3a"
            ],
            [
             0.8888888888888888,
             "#fdca26"
            ],
            [
             1,
             "#f0f921"
            ]
           ],
           "sequentialminus": [
            [
             0,
             "#0d0887"
            ],
            [
             0.1111111111111111,
             "#46039f"
            ],
            [
             0.2222222222222222,
             "#7201a8"
            ],
            [
             0.3333333333333333,
             "#9c179e"
            ],
            [
             0.4444444444444444,
             "#bd3786"
            ],
            [
             0.5555555555555556,
             "#d8576b"
            ],
            [
             0.6666666666666666,
             "#ed7953"
            ],
            [
             0.7777777777777778,
             "#fb9f3a"
            ],
            [
             0.8888888888888888,
             "#fdca26"
            ],
            [
             1,
             "#f0f921"
            ]
           ]
          },
          "colorway": [
           "#636efa",
           "#EF553B",
           "#00cc96",
           "#ab63fa",
           "#FFA15A",
           "#19d3f3",
           "#FF6692",
           "#B6E880",
           "#FF97FF",
           "#FECB52"
          ],
          "font": {
           "color": "#2a3f5f"
          },
          "geo": {
           "bgcolor": "white",
           "lakecolor": "white",
           "landcolor": "#E5ECF6",
           "showlakes": true,
           "showland": true,
           "subunitcolor": "white"
          },
          "hoverlabel": {
           "align": "left"
          },
          "hovermode": "closest",
          "mapbox": {
           "style": "light"
          },
          "paper_bgcolor": "white",
          "plot_bgcolor": "#E5ECF6",
          "polar": {
           "angularaxis": {
            "gridcolor": "white",
            "linecolor": "white",
            "ticks": ""
           },
           "bgcolor": "#E5ECF6",
           "radialaxis": {
            "gridcolor": "white",
            "linecolor": "white",
            "ticks": ""
           }
          },
          "scene": {
           "xaxis": {
            "backgroundcolor": "#E5ECF6",
            "gridcolor": "white",
            "gridwidth": 2,
            "linecolor": "white",
            "showbackground": true,
            "ticks": "",
            "zerolinecolor": "white"
           },
           "yaxis": {
            "backgroundcolor": "#E5ECF6",
            "gridcolor": "white",
            "gridwidth": 2,
            "linecolor": "white",
            "showbackground": true,
            "ticks": "",
            "zerolinecolor": "white"
           },
           "zaxis": {
            "backgroundcolor": "#E5ECF6",
            "gridcolor": "white",
            "gridwidth": 2,
            "linecolor": "white",
            "showbackground": true,
            "ticks": "",
            "zerolinecolor": "white"
           }
          },
          "shapedefaults": {
           "line": {
            "color": "#2a3f5f"
           }
          },
          "ternary": {
           "aaxis": {
            "gridcolor": "white",
            "linecolor": "white",
            "ticks": ""
           },
           "baxis": {
            "gridcolor": "white",
            "linecolor": "white",
            "ticks": ""
           },
           "bgcolor": "#E5ECF6",
           "caxis": {
            "gridcolor": "white",
            "linecolor": "white",
            "ticks": ""
           }
          },
          "title": {
           "x": 0.05
          },
          "xaxis": {
           "automargin": true,
           "gridcolor": "white",
           "linecolor": "white",
           "ticks": "",
           "title": {
            "standoff": 15
           },
           "zerolinecolor": "white",
           "zerolinewidth": 2
          },
          "yaxis": {
           "automargin": true,
           "gridcolor": "white",
           "linecolor": "white",
           "ticks": "",
           "title": {
            "standoff": 15
           },
           "zerolinecolor": "white",
           "zerolinewidth": 2
          }
         }
        },
        "xaxis": {
         "autorange": true,
         "linecolor": "black",
         "rangemode": "tozero",
         "showline": true,
         "title": {
          "text": "Número de gotas de leite"
         }
        },
        "yaxis": {
         "linecolor": "black",
         "showline": true,
         "title": {
          "text": "Intensidade Média (u.a.)"
         }
        }
       }
      }
     },
     "metadata": {},
     "output_type": "display_data"
    },
    {
     "name": "stdout",
     "output_type": "stream",
     "text": [
      "========================================\n",
      "   Digite 1 para realizar uma nova medição   \n",
      "   Digite 2 para plotar gráfico com dados já existentes   \n",
      "   Digite 3 para encerrar o programa   \n",
      "========================================\n"
     ]
    }
   ],
   "source": [
    "from medicao import medicao\n",
    "from tratamento_de_dados import tratar_dados\n",
    "from plotar_grafico import plotar_grafico\n",
    "from colorama import Fore, Back, Style, init\n",
    "import os\n",
    "\n",
    " \n",
    "\n",
    "def main() :\n",
    "\n",
    "    while True:\n",
    "\n",
    "        init(autoreset=True)\n",
    "        \n",
    "        print(Fore.GREEN + Style.BRIGHT + \"=\"*40)  # Borda superior\n",
    "        print(Fore.YELLOW + Style.BRIGHT + \"   Digite 1 para realizar uma nova medição   \")\n",
    "        print(Fore.YELLOW + Style.BRIGHT + \"   Digite 2 para plotar gráfico com dados já existentes   \")\n",
    "        print(Fore.YELLOW + Style.BRIGHT + \"   Digite 3 para encerrar o programa   \")\n",
    "        print(Fore.GREEN + Style.BRIGHT + \"=\"*40)  # Borda inferior\n",
    "\n",
    "        numero_acao = int(input(Fore.CYAN + \"Digite o número da ação desejada: \"))\n",
    "\n",
    "\n",
    "        if numero_acao == 1:\n",
    "\n",
    "            while True:\n",
    "                try:\n",
    "                    numero_de_amostras = int(input(\"Defina o Número de Amostras Desejadas: \"))\n",
    "                    if numero_de_amostras > 0:\n",
    "                        break\n",
    "                    else:\n",
    "                        print(\"Por favor, digite um número inteiro maior que zero.\")\n",
    "                except ValueError:\n",
    "                    print(\"Por favor, digite um número inteiro válido.\")\n",
    "            \n",
    "            nome_pasta = medicao(numero_de_amostras)\n",
    "            \n",
    "            media_Azul, media_Vermelho, media_Verde, desvio_Azul, desvio_Vermelho, desvio_Verde, n_de_gotas = tratar_dados(f\"{nome_pasta}\", \",\", numero_de_amostras)\n",
    "\n",
    "            plotar_grafico(media_Azul, media_Vermelho,  media_Verde, desvio_Azul,  desvio_Vermelho, desvio_Verde, n_de_gotas)\n",
    "        \n",
    "        elif numero_acao == 2:\n",
    "            \n",
    "            nome_pasta = input(\"Digite o nome da pasta onde estão os arquivos: \")  \n",
    "\n",
    "            while os.path.exists(nome_pasta) == False:\n",
    "                  nome_pasta = input(\"Digite um nome de pasta válido: \")\n",
    "                  \n",
    "            while True:\n",
    "                    try:\n",
    "                        numero_de_amostras = int(input(\"Defina o Número de Amostras Desejadas: \"))\n",
    "                        if numero_de_amostras > 0:\n",
    "                            break\n",
    "                        else:\n",
    "                            print(\"Por favor, digite um número inteiro maior que zero.\")\n",
    "                    except ValueError:\n",
    "                        print(\"Por favor, digite um número inteiro válido.\")\n",
    "\n",
    "            media_Azul, media_Vermelho, media_Verde, desvio_Azul, desvio_Vermelho, desvio_Verde, n_de_gotas = tratar_dados(f\"{nome_pasta}\", \",\", numero_de_amostras)\n",
    "              \n",
    "            plotar_grafico(media_Azul, media_Vermelho, media_Verde, desvio_Azul,  desvio_Vermelho, desvio_Verde, n_de_gotas)\n",
    "        else: break\n",
    "\n",
    "\n",
    "main()"
   ]
  },
  {
   "cell_type": "code",
   "execution_count": null,
   "metadata": {},
   "outputs": [],
   "source": []
  },
  {
   "cell_type": "code",
   "execution_count": null,
   "metadata": {},
   "outputs": [],
   "source": []
  }
 ],
 "metadata": {
  "kernelspec": {
   "display_name": "Python 3",
   "language": "python",
   "name": "python3"
  },
  "language_info": {
   "codemirror_mode": {
    "name": "ipython",
    "version": 3
   },
   "file_extension": ".py",
   "mimetype": "text/x-python",
   "name": "python",
   "nbconvert_exporter": "python",
   "pygments_lexer": "ipython3",
   "version": "3.11.5"
  }
 },
 "nbformat": 4,
 "nbformat_minor": 2
}
